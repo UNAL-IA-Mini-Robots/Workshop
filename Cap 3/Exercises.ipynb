{
 "cells": [
  {
   "cell_type": "markdown",
   "metadata": {},
   "source": [
    "# Ejercicios y Problemas."
   ]
  },
  {
   "cell_type": "markdown",
   "metadata": {},
   "source": [
    "2. En el siguiente enlace se encuentra un programa Python para la solución del TSP (Traveling\n",
    "Salesman Problem):\n",
    "https://github.com/rocreguant/personal_blog/blob/main/Genetic_Algorithm_Python_Example/Traveling_Salesman_Problem.ipynb\n",
    "Estúdielo y úselo como laboratorio, usando diferentes tipos de selección y diferente número de\n",
    "generaciones. Imprima las gráficas correspondientes."
   ]
  }
 ],
 "metadata": {
  "kernelspec": {
   "display_name": "adv-sci",
   "language": "python",
   "name": "python3"
  },
  "language_info": {
   "codemirror_mode": {
    "name": "ipython",
    "version": 3
   },
   "file_extension": ".py",
   "mimetype": "text/x-python",
   "name": "python",
   "nbconvert_exporter": "python",
   "pygments_lexer": "ipython3",
   "version": "3.11.4"
  },
  "orig_nbformat": 4
 },
 "nbformat": 4,
 "nbformat_minor": 2
}
